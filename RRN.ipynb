{
  "nbformat": 4,
  "nbformat_minor": 0,
  "metadata": {
    "colab": {
      "name": "RRN.ipynb",
      "provenance": [],
      "include_colab_link": true
    },
    "kernelspec": {
      "name": "python3",
      "display_name": "Python 3"
    },
    "language_info": {
      "name": "python"
    }
  },
  "cells": [
    {
      "cell_type": "markdown",
      "metadata": {
        "id": "view-in-github",
        "colab_type": "text"
      },
      "source": [
        "<a href=\"https://colab.research.google.com/github/ahcamachod/1864-regresion-implementa-una-red-neuronal-con-numpy/blob/proyecto-final/RRN.ipynb\" target=\"_parent\"><img src=\"https://colab.research.google.com/assets/colab-badge.svg\" alt=\"Open In Colab\"/></a>"
      ]
    },
    {
      "cell_type": "markdown",
      "metadata": {
        "id": "3P4s3PrQENJF"
      },
      "source": [
        "# Regresión con Redes Neuronales "
      ]
    },
    {
      "cell_type": "markdown",
      "metadata": {
        "id": "q411TBK5F8sg"
      },
      "source": [
        "##### Mediante este curso de regresión con redes neuronales utilizando Numpy estaremos creando una proyecto que nos ayude a determinar el número de bicicletas alquiladas con base en el clima y la temperatura.\n",
        "\n",
        "El dataset utilizado como referencia se encuentra en: https://archive.ics.uci.edu/ml/datasets/bike+sharing+dataset"
      ]
    },
    {
      "cell_type": "markdown",
      "metadata": {
        "id": "NxWgR6oCEfES"
      },
      "source": [
        "## 1.1 Conociendo el Dataset"
      ]
    },
    {
      "cell_type": "code",
      "metadata": {
        "id": "BBkFwOv_EDGE"
      },
      "source": [
        "from google.colab import files\n",
        "import matplotlib.pyplot as plt\n",
        "import numpy as np\n",
        "import pandas as pd\n",
        "from sklearn.model_selection import train_test_split"
      ],
      "execution_count": 1,
      "outputs": []
    },
    {
      "cell_type": "code",
      "metadata": {
        "colab": {
          "resources": {
            "http://localhost:8080/nbextensions/google.colab/files.js": {
              "data": "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",
              "ok": true,
              "headers": [
                [
                  "content-type",
                  "application/javascript"
                ]
              ],
              "status": 200,
              "status_text": ""
            }
          },
          "base_uri": "https://localhost:8080/",
          "height": 112
        },
        "id": "lGIx9HqFEqDo",
        "outputId": "bc0aa0b9-aa25-420f-cedf-e7a2b2326352"
      },
      "source": [
        "files.upload()"
      ],
      "execution_count": 2,
      "outputs": [
        {
          "output_type": "display_data",
          "data": {
            "text/html": [
              "\n",
              "     <input type=\"file\" id=\"files-93c3ee2e-623a-46dc-aa7c-b9dc9fa9e180\" name=\"files[]\" multiple disabled\n",
              "        style=\"border:none\" />\n",
              "     <output id=\"result-93c3ee2e-623a-46dc-aa7c-b9dc9fa9e180\">\n",
              "      Upload widget is only available when the cell has been executed in the\n",
              "      current browser session. Please rerun this cell to enable.\n",
              "      </output>\n",
              "      <script src=\"/nbextensions/google.colab/files.js\"></script> "
            ],
            "text/plain": [
              "<IPython.core.display.HTML object>"
            ]
          },
          "metadata": {}
        },
        {
          "output_type": "stream",
          "name": "stdout",
          "text": [
            "Saving Bicicletas.csv to Bicicletas (1).csv\n"
          ]
        },
        {
          "output_type": "execute_result",
          "data": {
            "text/plain": [
              "{'Bicicletas.csv': b'clima,temperatura,bicicletas_alquiladas\\r\\n2,0.363625,985\\r\\n2,0.35373899999999997,801\\r\\n1,0.189405,1349\\r\\n1,0.21212199999999998,1562\\r\\n1,0.22926999999999997,1600\\r\\n1,0.23320900000000003,1606\\r\\n2,0.208839,1510\\r\\n2,0.162254,959\\r\\n1,0.116175,822\\r\\n1,0.15088800000000002,1321\\r\\n2,0.19146400000000002,1263\\r\\n1,0.160473,1162\\r\\n1,0.150883,1406\\r\\n1,0.188413,1421\\r\\n2,0.248112,1248\\r\\n1,0.234217,1204\\r\\n2,0.176771,1000\\r\\n2,0.23233299999999998,683\\r\\n2,0.29842199999999997,1650\\r\\n2,0.25505,1927\\r\\n1,0.157833,1543\\r\\n1,0.0790696,981\\r\\n1,0.09883910000000001,986\\r\\n1,0.11793,1416\\r\\n2,0.234526,1985\\r\\n3,0.2036,506\\r\\n1,0.2197,431\\r\\n2,0.22331700000000002,1167\\r\\n1,0.212126,1098\\r\\n1,0.250322,1096\\r\\n2,0.18625,1501\\r\\n2,0.23453000000000002,1360\\r\\n2,0.254417,1526\\r\\n1,0.177878,1550\\r\\n2,0.22858699999999998,1708\\r\\n2,0.243058,1005\\r\\n1,0.291671,1623\\r\\n1,0.303658,1712\\r\\n1,0.198246,1530\\r\\n2,0.144283,1605\\r\\n1,0.14954800000000001,1538\\r\\n1,0.213509,1746\\r\\n1,0.232954,1472\\r\\n1,0.324113,1589\\r\\n1,0.39835,1913\\r\\n1,0.254274,1815\\r\\n1,0.3162,2115\\r\\n1,0.428658,2475\\r\\n1,0.511983,2927\\r\\n1,0.391404,1635\\r\\n1,0.27733,1812\\r\\n2,0.284075,1107\\r\\n1,0.186033,1450\\r\\n1,0.24571700000000002,1917\\r\\n2,0.289191,1807\\r\\n2,0.350461,1461\\r\\n1,0.282192,1969\\r\\n1,0.351109,2402\\r\\n2,0.400118,1446\\r\\n1,0.263879,1851\\r\\n1,0.320071,2134\\r\\n1,0.200133,1685\\r\\n2,0.255679,1944\\r\\n2,0.378779,2077\\r\\n2,0.366252,605\\r\\n1,0.238461,1872\\r\\n1,0.3024,2133\\r\\n2,0.286608,1891\\r\\n3,0.385668,623\\r\\n2,0.305,1977\\r\\n1,0.32575,2132\\r\\n1,0.380091,2417\\r\\n1,0.332,2046\\r\\n2,0.318178,2056\\r\\n2,0.36693000000000003,2192\\r\\n1,0.410333,2744\\r\\n1,0.5270090000000001,3239\\r\\n1,0.466525,3117\\r\\n1,0.32575,2471\\r\\n2,0.409735,2077\\r\\n1,0.44064200000000003,2703\\r\\n2,0.337939,2121\\r\\n2,0.270833,1865\\r\\n1,0.256312,2210\\r\\n1,0.257571,2496\\r\\n2,0.250339,1693\\r\\n1,0.25757399999999997,2028\\r\\n1,0.292908,2425\\r\\n2,0.29735,1536\\r\\n3,0.257575,1685\\r\\n2,0.283454,2227\\r\\n2,0.315637,2252\\r\\n1,0.378767,3249\\r\\n1,0.542929,3115\\r\\n2,0.39835,1795\\r\\n1,0.387608,2808\\r\\n1,0.433696,3141\\r\\n2,0.324479,1471\\r\\n2,0.34152899999999997,2455\\r\\n2,0.426737,2895\\r\\n2,0.565217,3348\\r\\n2,0.493054,2034\\r\\n2,0.417283,2162\\r\\n1,0.462742,3267\\r\\n1,0.441913,3126\\r\\n3,0.425492,795\\r\\n1,0.445696,3744\\r\\n1,0.503146,3429\\r\\n2,0.48925799999999997,3204\\r\\n1,0.564392,3944\\r\\n1,0.453892,4189\\r\\n2,0.321954,1683\\r\\n2,0.450121,4036\\r\\n2,0.551763,4191\\r\\n1,0.5745,4073\\r\\n1,0.594083,4400\\r\\n2,0.575142,3872\\r\\n2,0.578929,4058\\r\\n1,0.497463,4595\\r\\n1,0.464021,5312\\r\\n2,0.448204,3351\\r\\n2,0.532833,4401\\r\\n2,0.582079,4451\\r\\n2,0.40465,2633\\r\\n1,0.441917,4433\\r\\n1,0.474117,4608\\r\\n1,0.512621,4714\\r\\n1,0.518933,4333\\r\\n1,0.525246,4362\\r\\n1,0.522721,4803\\r\\n1,0.5284,4182\\r\\n1,0.523363,4864\\r\\n2,0.4943,4105\\r\\n2,0.500629,3409\\r\\n2,0.536,4553\\r\\n1,0.550512,3958\\r\\n2,0.538529,4123\\r\\n2,0.527158,3855\\r\\n2,0.510742,4575\\r\\n1,0.529042,4917\\r\\n1,0.571975,5805\\r\\n1,0.5745,4660\\r\\n2,0.590296,4274\\r\\n2,0.604813,4492\\r\\n1,0.615542,4978\\r\\n1,0.654688,4677\\r\\n1,0.637008,4679\\r\\n1,0.612379,4758\\r\\n1,0.61555,4788\\r\\n1,0.671092,4098\\r\\n1,0.725383,3982\\r\\n2,0.720967,3974\\r\\n1,0.643942,4968\\r\\n1,0.587133,5312\\r\\n1,0.594696,5342\\r\\n2,0.616804,4906\\r\\n1,0.621858,4548\\r\\n1,0.65595,4833\\r\\n1,0.727279,4401\\r\\n2,0.757579,3915\\r\\n1,0.703292,4586\\r\\n1,0.678038,4966\\r\\n1,0.643325,4460\\r\\n1,0.601654,5020\\r\\n1,0.591546,4891\\r\\n1,0.587754,5180\\r\\n2,0.595346,3767\\r\\n1,0.600383,4844\\r\\n1,0.643954,5119\\r\\n2,0.645846,4744\\r\\n2,0.595346,4010\\r\\n2,0.637646,4835\\r\\n1,0.693829,4507\\r\\n2,0.693833,4790\\r\\n1,0.656583,4991\\r\\n1,0.643313,5202\\r\\n1,0.637629,5305\\r\\n2,0.637004,4708\\r\\n1,0.692558,4648\\r\\n1,0.654688,5225\\r\\n1,0.637008,5515\\r\\n1,0.652162,5362\\r\\n1,0.667308,5119\\r\\n2,0.668575,4649\\r\\n2,0.665417,6043\\r\\n1,0.696338,4665\\r\\n1,0.685633,4629\\r\\n1,0.686871,4592\\r\\n2,0.6704829999999999,4040\\r\\n1,0.664158,5336\\r\\n1,0.690025,4881\\r\\n1,0.729804,4086\\r\\n1,0.739275,4258\\r\\n1,0.689404,4342\\r\\n1,0.635104,5084\\r\\n1,0.624371,5538\\r\\n1,0.638263,5923\\r\\n1,0.669833,5302\\r\\n1,0.703925,4458\\r\\n1,0.747479,4541\\r\\n1,0.74685,4332\\r\\n2,0.826371,3784\\r\\n1,0.8408959999999999,3387\\r\\n1,0.804287,3285\\r\\n1,0.794829,3606\\r\\n1,0.720958,3840\\r\\n1,0.696979,4590\\r\\n1,0.690667,4656\\r\\n1,0.7399,4390\\r\\n1,0.785967,3846\\r\\n1,0.728537,4475\\r\\n1,0.729796,4302\\r\\n1,0.703292,4266\\r\\n1,0.707071,4845\\r\\n2,0.679937,3574\\r\\n2,0.664788,4576\\r\\n1,0.656567,4866\\r\\n2,0.676154,4294\\r\\n1,0.715292,3785\\r\\n1,0.703283,4326\\r\\n1,0.724121,4602\\r\\n1,0.684983,4780\\r\\n1,0.651521,4792\\r\\n1,0.654042,4905\\r\\n2,0.645858,4150\\r\\n2,0.624388,3820\\r\\n1,0.616167,4338\\r\\n1,0.645837,4725\\r\\n1,0.666671,4694\\r\\n1,0.662258,3805\\r\\n2,0.633221,4153\\r\\n1,0.648996,5191\\r\\n1,0.675525,3873\\r\\n1,0.638254,4758\\r\\n1,0.606067,5895\\r\\n1,0.630692,5130\\r\\n2,0.645854,3542\\r\\n1,0.659733,4661\\r\\n2,0.635556,1115\\r\\n1,0.6479590000000001,4334\\r\\n1,0.607958,4634\\r\\n1,0.594704,5204\\r\\n1,0.611121,5058\\r\\n1,0.614921,5115\\r\\n2,0.604808,4727\\r\\n1,0.633213,4484\\r\\n1,0.665429,4940\\r\\n2,0.625646,3351\\r\\n3,0.5152,2710\\r\\n3,0.544229,1996\\r\\n3,0.555361,1842\\r\\n2,0.578946,3544\\r\\n1,0.607962,5345\\r\\n1,0.609229,5046\\r\\n1,0.60213,4713\\r\\n1,0.603554,4763\\r\\n1,0.6269,4785\\r\\n2,0.553671,3659\\r\\n2,0.461475,4760\\r\\n2,0.478512,4511\\r\\n1,0.490537,4274\\r\\n2,0.529675,4539\\r\\n2,0.532217,3641\\r\\n2,0.5505329999999999,4352\\r\\n2,0.554963,4795\\r\\n2,0.522125,2395\\r\\n2,0.564412,5423\\r\\n2,0.572637,5010\\r\\n2,0.589042,4630\\r\\n2,0.574525,4120\\r\\n2,0.575158,3907\\r\\n1,0.574512,4839\\r\\n1,0.544829,5202\\r\\n2,0.41286300000000004,2429\\r\\n2,0.345317,2918\\r\\n2,0.392046,3570\\r\\n1,0.472858,4456\\r\\n1,0.527138,4826\\r\\n1,0.480425,4765\\r\\n1,0.504404,4985\\r\\n1,0.513242,5409\\r\\n1,0.523983,5511\\r\\n1,0.542925,5117\\r\\n2,0.546096,4563\\r\\n3,0.517717,2416\\r\\n2,0.551804,2913\\r\\n2,0.529675,3644\\r\\n1,0.498725,5217\\r\\n1,0.503154,5041\\r\\n1,0.510725,4570\\r\\n2,0.522721,4748\\r\\n3,0.513848,2424\\r\\n1,0.466525,4195\\r\\n1,0.42359600000000003,4304\\r\\n1,0.425492,4308\\r\\n1,0.422333,4381\\r\\n1,0.457067,4187\\r\\n1,0.463375,4687\\r\\n2,0.472846,3894\\r\\n2,0.457046,2659\\r\\n2,0.318812,3747\\r\\n3,0.227913,627\\r\\n1,0.321329,3331\\r\\n1,0.356063,3669\\r\\n1,0.397088,4068\\r\\n1,0.390133,4186\\r\\n1,0.405921,3974\\r\\n2,0.40339200000000003,4046\\r\\n1,0.323854,3926\\r\\n1,0.362358,3649\\r\\n1,0.400871,4035\\r\\n1,0.412246,4205\\r\\n1,0.40907899999999997,4109\\r\\n2,0.373721,2933\\r\\n1,0.306817,3368\\r\\n1,0.357942,4067\\r\\n1,0.43055,3717\\r\\n1,0.524612,4486\\r\\n2,0.507579,4195\\r\\n3,0.451988,1817\\r\\n2,0.323221,3053\\r\\n1,0.272721,3392\\r\\n1,0.32448299999999997,3663\\r\\n2,0.457058,3520\\r\\n3,0.445062,2765\\r\\n3,0.421696,1607\\r\\n2,0.430537,2566\\r\\n1,0.372471,1495\\r\\n1,0.380671,2792\\r\\n1,0.385087,3068\\r\\n1,0.4558,3071\\r\\n1,0.490122,3867\\r\\n2,0.451375,2914\\r\\n1,0.311221,3613\\r\\n1,0.305554,3727\\r\\n1,0.331433,3940\\r\\n1,0.310604,3614\\r\\n1,0.3491,3485\\r\\n2,0.393925,3811\\r\\n3,0.4564,2594\\r\\n3,0.400246,705\\r\\n1,0.256938,3322\\r\\n1,0.317542,3620\\r\\n1,0.266412,3190\\r\\n1,0.253154,2743\\r\\n1,0.270196,3310\\r\\n1,0.301138,3523\\r\\n2,0.338362,3740\\r\\n2,0.41223699999999996,3709\\r\\n2,0.359825,3577\\r\\n2,0.249371,2739\\r\\n1,0.245579,2431\\r\\n1,0.280933,3403\\r\\n2,0.396454,3750\\r\\n2,0.428017,2660\\r\\n2,0.426121,3068\\r\\n1,0.377513,2209\\r\\n1,0.299242,1011\\r\\n1,0.279961,754\\r\\n1,0.315535,1317\\r\\n2,0.327633,1162\\r\\n1,0.279974,2302\\r\\n1,0.263892,2423\\r\\n1,0.318812,2999\\r\\n1,0.414121,2485\\r\\n1,0.375621,2294\\r\\n1,0.252304,1951\\r\\n1,0.126275,2236\\r\\n2,0.11933699999999998,2368\\r\\n1,0.278412,3272\\r\\n1,0.340267,4098\\r\\n1,0.390779,4521\\r\\n1,0.340258,3425\\r\\n2,0.247479,2376\\r\\n1,0.318826,3598\\r\\n2,0.282821,2177\\r\\n2,0.381938,4097\\r\\n1,0.249362,3214\\r\\n1,0.183087,2493\\r\\n1,0.161625,2311\\r\\n1,0.190663,2298\\r\\n2,0.36427800000000005,2935\\r\\n1,0.275254,3376\\r\\n1,0.190038,3292\\r\\n2,0.220958,3163\\r\\n2,0.174875,1301\\r\\n2,0.16225,1977\\r\\n2,0.243058,2432\\r\\n1,0.349108,4339\\r\\n1,0.294821,4270\\r\\n2,0.35605,4075\\r\\n2,0.415383,3456\\r\\n1,0.326379,4023\\r\\n1,0.272721,3243\\r\\n1,0.262625,3624\\r\\n1,0.381317,4509\\r\\n1,0.466538,4579\\r\\n2,0.398971,3761\\r\\n1,0.309346,4151\\r\\n2,0.272725,2832\\r\\n2,0.264521,2947\\r\\n1,0.296426,3784\\r\\n1,0.361104,4375\\r\\n2,0.266421,2802\\r\\n1,0.261988,3830\\r\\n2,0.293558,3831\\r\\n3,0.210867,2169\\r\\n1,0.101658,1529\\r\\n1,0.227913,3422\\r\\n2,0.333946,3922\\r\\n1,0.35162899999999997,4169\\r\\n2,0.330162,3005\\r\\n1,0.35162899999999997,4154\\r\\n1,0.355425,4318\\r\\n2,0.265788,2689\\r\\n1,0.273391,3129\\r\\n1,0.295113,3777\\r\\n1,0.392667,4773\\r\\n1,0.444446,5062\\r\\n2,0.41097100000000003,3487\\r\\n1,0.255675,2732\\r\\n1,0.268308,3389\\r\\n1,0.357954,4322\\r\\n1,0.353525,4363\\r\\n2,0.34847,1834\\r\\n1,0.475371,4990\\r\\n2,0.359842,3194\\r\\n2,0.413492,4066\\r\\n1,0.303021,3423\\r\\n1,0.241171,3333\\r\\n1,0.255042,3956\\r\\n1,0.3851,4916\\r\\n1,0.524604,5382\\r\\n2,0.397083,4569\\r\\n1,0.277767,4118\\r\\n1,0.35967,4911\\r\\n1,0.459592,5298\\r\\n1,0.542929,5847\\r\\n1,0.548617,6312\\r\\n1,0.532825,6192\\r\\n2,0.436229,4378\\r\\n2,0.505046,7836\\r\\n2,0.46399999999999997,5892\\r\\n1,0.532821,6153\\r\\n1,0.538533,6093\\r\\n2,0.513258,6230\\r\\n1,0.531567,6871\\r\\n2,0.570067,8362\\r\\n2,0.48673299999999997,3372\\r\\n2,0.437488,4996\\r\\n1,0.43875,5558\\r\\n1,0.315654,5102\\r\\n1,0.47095,5698\\r\\n1,0.482304,6133\\r\\n2,0.375621,5459\\r\\n2,0.42170799999999997,6235\\r\\n2,0.41728699999999996,6041\\r\\n1,0.42751300000000003,5936\\r\\n1,0.461483,6772\\r\\n1,0.53345,6436\\r\\n1,0.431163,6457\\r\\n1,0.39076700000000003,6460\\r\\n1,0.426129,6857\\r\\n1,0.492425,5169\\r\\n1,0.476638,5585\\r\\n1,0.436233,5918\\r\\n1,0.33727399999999996,4862\\r\\n1,0.387604,5409\\r\\n1,0.43180799999999997,6398\\r\\n1,0.487996,7460\\r\\n1,0.573875,7132\\r\\n1,0.614925,6370\\r\\n1,0.598487,6691\\r\\n2,0.457038,4367\\r\\n1,0.493046,6565\\r\\n1,0.515775,7290\\r\\n1,0.542921,6624\\r\\n3,0.389504,1027\\r\\n2,0.301125,3214\\r\\n1,0.405283,5633\\r\\n1,0.470317,6196\\r\\n2,0.483583,5026\\r\\n1,0.452637,6233\\r\\n2,0.377504,4220\\r\\n1,0.450121,6304\\r\\n2,0.457696,5572\\r\\n2,0.577021,5740\\r\\n1,0.537896,6169\\r\\n2,0.537242,6421\\r\\n1,0.590917,6296\\r\\n2,0.584608,6883\\r\\n2,0.546737,6359\\r\\n2,0.527142,6273\\r\\n2,0.557471,5728\\r\\n2,0.553025,4717\\r\\n1,0.49178299999999997,6572\\r\\n1,0.520833,7030\\r\\n1,0.544817,7429\\r\\n1,0.585238,6118\\r\\n2,0.5499,2843\\r\\n2,0.576404,5115\\r\\n1,0.595975,7424\\r\\n1,0.572613,7384\\r\\n1,0.551121,7639\\r\\n1,0.566908,8294\\r\\n1,0.583967,7129\\r\\n2,0.565667,4359\\r\\n2,0.580825,6073\\r\\n2,0.584612,5260\\r\\n1,0.6067,6770\\r\\n1,0.627529,6734\\r\\n1,0.642696,6536\\r\\n1,0.641425,6591\\r\\n1,0.6793,6043\\r\\n1,0.672992,5743\\r\\n2,0.611129,6855\\r\\n1,0.631329,7338\\r\\n2,0.607962,4127\\r\\n1,0.566288,8120\\r\\n1,0.575133,7641\\r\\n1,0.578283,6998\\r\\n2,0.525892,7001\\r\\n1,0.542292,7055\\r\\n1,0.569442,7494\\r\\n1,0.597862,7736\\r\\n1,0.648367,7498\\r\\n1,0.663517,6598\\r\\n2,0.659721,6664\\r\\n2,0.597875,4972\\r\\n1,0.611117,7421\\r\\n1,0.624383,7363\\r\\n1,0.599754,7665\\r\\n1,0.594708,7702\\r\\n1,0.571975,6978\\r\\n2,0.544842,5099\\r\\n1,0.654692,6825\\r\\n1,0.720975,6211\\r\\n1,0.752542,5905\\r\\n1,0.724121,5823\\r\\n1,0.652792,7458\\r\\n1,0.674254,6891\\r\\n1,0.654042,6779\\r\\n1,0.594704,7442\\r\\n1,0.640792,7335\\r\\n1,0.675512,6879\\r\\n1,0.786613,5463\\r\\n1,0.687508,5687\\r\\n1,0.750629,5531\\r\\n1,0.702038,6227\\r\\n1,0.70265,6660\\r\\n1,0.732337,7403\\r\\n1,0.761367,6241\\r\\n1,0.752533,6207\\r\\n1,0.804913,4840\\r\\n1,0.790396,4672\\r\\n2,0.654054,6569\\r\\n2,0.664796,6290\\r\\n1,0.650271,7264\\r\\n1,0.654683,7446\\r\\n2,0.667933,7499\\r\\n2,0.666042,6969\\r\\n1,0.705196,6031\\r\\n1,0.724125,6830\\r\\n1,0.755683,6786\\r\\n1,0.745583,5713\\r\\n1,0.714642,6591\\r\\n2,0.613025,5870\\r\\n3,0.549912,4459\\r\\n2,0.623125,7410\\r\\n1,0.690017,6966\\r\\n1,0.70645,7592\\r\\n1,0.654054,8173\\r\\n1,0.739263,6861\\r\\n1,0.734217,6904\\r\\n1,0.697604,6685\\r\\n1,0.667933,6597\\r\\n1,0.684987,7105\\r\\n1,0.662896,7216\\r\\n1,0.667308,7580\\r\\n1,0.707088,7261\\r\\n2,0.722867,7175\\r\\n1,0.751267,6824\\r\\n1,0.731079,5464\\r\\n2,0.710246,7013\\r\\n2,0.697621,7273\\r\\n2,0.707717,7534\\r\\n1,0.699508,7286\\r\\n2,0.667942,5786\\r\\n2,0.638267,6299\\r\\n1,0.644579,6544\\r\\n1,0.662254,6883\\r\\n1,0.676779,6784\\r\\n1,0.654037,7347\\r\\n1,0.654688,7605\\r\\n1,0.2424,7148\\r\\n1,0.618071,7865\\r\\n2,0.603554,4549\\r\\n2,0.595967,6530\\r\\n1,0.601025,7006\\r\\n1,0.621854,7375\\r\\n1,0.637008,7765\\r\\n2,0.6471,7582\\r\\n2,0.618696,6053\\r\\n2,0.595996,5255\\r\\n1,0.654688,6917\\r\\n1,0.66605,7040\\r\\n1,0.635733,7697\\r\\n1,0.652779,7713\\r\\n1,0.6894,7350\\r\\n2,0.702654,6140\\r\\n2,0.649,5810\\r\\n1,0.661629,6034\\r\\n1,0.686888,6864\\r\\n1,0.708983,7112\\r\\n2,0.655329,6203\\r\\n1,0.657204,7504\\r\\n2,0.611121,5976\\r\\n1,0.578925,8227\\r\\n1,0.565654,7525\\r\\n1,0.554292,7767\\r\\n1,0.570075,7870\\r\\n1,0.579558,7804\\r\\n1,0.594083,8009\\r\\n1,0.585867,8714\\r\\n1,0.563125,7333\\r\\n2,0.55305,6869\\r\\n2,0.565067,4073\\r\\n1,0.540404,7591\\r\\n1,0.532192,7720\\r\\n1,0.571971,8167\\r\\n1,0.610488,8395\\r\\n1,0.518933,7907\\r\\n1,0.502513,7436\\r\\n1,0.544179,7538\\r\\n1,0.5966130000000001,7733\\r\\n2,0.607975,7393\\r\\n2,0.585863,7415\\r\\n1,0.530296,8555\\r\\n1,0.517663,6889\\r\\n2,0.512,6778\\r\\n3,0.542333,4639\\r\\n2,0.599133,7572\\r\\n2,0.607975,7328\\r\\n1,0.580187,8156\\r\\n1,0.538521,7965\\r\\n2,0.419813,3510\\r\\n2,0.387608,5478\\r\\n2,0.438112,6392\\r\\n1,0.503142,7691\\r\\n1,0.431167,7570\\r\\n1,0.433071,7282\\r\\n1,0.391396,7109\\r\\n1,0.508204,6639\\r\\n2,0.53915,5875\\r\\n1,0.460846,7534\\r\\n1,0.450108,7461\\r\\n2,0.512625,7509\\r\\n2,0.537896,5424\\r\\n1,0.472842,8090\\r\\n1,0.456429,6824\\r\\n1,0.482942,7058\\r\\n1,0.530304,7466\\r\\n1,0.558721,7693\\r\\n2,0.529688,7359\\r\\n2,0.52275,7444\\r\\n2,0.515133,7852\\r\\n2,0.467771,4459\\r\\n3,0.4394,22\\r\\n2,0.309909,1096\\r\\n2,0.3611,5566\\r\\n2,0.369942,5986\\r\\n1,0.356042,5847\\r\\n2,0.323846,5138\\r\\n1,0.329538,5107\\r\\n1,0.308075,5259\\r\\n1,0.281567,5686\\r\\n2,0.274621,5035\\r\\n1,0.341891,5315\\r\\n1,0.35541300000000003,5992\\r\\n1,0.393937,6536\\r\\n1,0.421713,6852\\r\\n1,0.475383,6269\\r\\n2,0.323225,4094\\r\\n1,0.281563,5495\\r\\n2,0.324492,5445\\r\\n1,0.347204,5698\\r\\n1,0.326383,5629\\r\\n1,0.337746,4669\\r\\n2,0.375621,5499\\r\\n2,0.38066700000000003,5634\\r\\n1,0.364892,5146\\r\\n1,0.350371,2425\\r\\n1,0.378779,3910\\r\\n1,0.24874200000000002,2277\\r\\n1,0.257583,2424\\r\\n1,0.33900399999999997,5087\\r\\n2,0.281558,3959\\r\\n1,0.28976199999999996,5260\\r\\n1,0.29842199999999997,5323\\r\\n1,0.323867,5668\\r\\n2,0.316904,5191\\r\\n2,0.35920799999999997,4649\\r\\n1,0.455796,6234\\r\\n1,0.46905399999999997,6606\\r\\n1,0.428012,5729\\r\\n1,0.258204,5375\\r\\n2,0.32195799999999997,5008\\r\\n2,0.38950799999999997,5582\\r\\n2,0.390146,3228\\r\\n2,0.435575,5170\\r\\n2,0.338363,5501\\r\\n2,0.297338,5319\\r\\n1,0.294188,5532\\r\\n1,0.294192,5611\\r\\n1,0.338383,5047\\r\\n2,0.369938,3786\\r\\n2,0.4015,4585\\r\\n1,0.409708,5557\\r\\n1,0.34216199999999997,5267\\r\\n2,0.335217,4128\\r\\n2,0.301767,3623\\r\\n1,0.23611300000000002,1749\\r\\n1,0.259471,1787\\r\\n2,0.2589,920\\r\\n2,0.29446500000000003,1013\\r\\n3,0.220333,441\\r\\n2,0.226642,2114\\r\\n2,0.255046,3095\\r\\n2,0.2424,1341\\r\\n1,0.2317,1796\\r\\n2,0.223487,2729\\r\\n'}"
            ]
          },
          "metadata": {},
          "execution_count": 2
        }
      ]
    },
    {
      "cell_type": "code",
      "metadata": {
        "colab": {
          "base_uri": "https://localhost:8080/",
          "height": 206
        },
        "id": "4dvx3zHkEqvm",
        "outputId": "bc24a45b-c039-4bf4-dcfa-7b23ec4f5142"
      },
      "source": [
        "datos = pd.read_csv('Bicicletas.csv')\n",
        "datos.head()"
      ],
      "execution_count": 3,
      "outputs": [
        {
          "output_type": "execute_result",
          "data": {
            "text/html": [
              "\n",
              "  <div id=\"df-c182db0e-f904-42cd-be5c-372a6762dcea\">\n",
              "    <div class=\"colab-df-container\">\n",
              "      <div>\n",
              "<style scoped>\n",
              "    .dataframe tbody tr th:only-of-type {\n",
              "        vertical-align: middle;\n",
              "    }\n",
              "\n",
              "    .dataframe tbody tr th {\n",
              "        vertical-align: top;\n",
              "    }\n",
              "\n",
              "    .dataframe thead th {\n",
              "        text-align: right;\n",
              "    }\n",
              "</style>\n",
              "<table border=\"1\" class=\"dataframe\">\n",
              "  <thead>\n",
              "    <tr style=\"text-align: right;\">\n",
              "      <th></th>\n",
              "      <th>clima</th>\n",
              "      <th>temperatura</th>\n",
              "      <th>bicicletas_alquiladas</th>\n",
              "    </tr>\n",
              "  </thead>\n",
              "  <tbody>\n",
              "    <tr>\n",
              "      <th>0</th>\n",
              "      <td>2</td>\n",
              "      <td>0.363625</td>\n",
              "      <td>985</td>\n",
              "    </tr>\n",
              "    <tr>\n",
              "      <th>1</th>\n",
              "      <td>2</td>\n",
              "      <td>0.353739</td>\n",
              "      <td>801</td>\n",
              "    </tr>\n",
              "    <tr>\n",
              "      <th>2</th>\n",
              "      <td>1</td>\n",
              "      <td>0.189405</td>\n",
              "      <td>1349</td>\n",
              "    </tr>\n",
              "    <tr>\n",
              "      <th>3</th>\n",
              "      <td>1</td>\n",
              "      <td>0.212122</td>\n",
              "      <td>1562</td>\n",
              "    </tr>\n",
              "    <tr>\n",
              "      <th>4</th>\n",
              "      <td>1</td>\n",
              "      <td>0.229270</td>\n",
              "      <td>1600</td>\n",
              "    </tr>\n",
              "  </tbody>\n",
              "</table>\n",
              "</div>\n",
              "      <button class=\"colab-df-convert\" onclick=\"convertToInteractive('df-c182db0e-f904-42cd-be5c-372a6762dcea')\"\n",
              "              title=\"Convert this dataframe to an interactive table.\"\n",
              "              style=\"display:none;\">\n",
              "        \n",
              "  <svg xmlns=\"http://www.w3.org/2000/svg\" height=\"24px\"viewBox=\"0 0 24 24\"\n",
              "       width=\"24px\">\n",
              "    <path d=\"M0 0h24v24H0V0z\" fill=\"none\"/>\n",
              "    <path d=\"M18.56 5.44l.94 2.06.94-2.06 2.06-.94-2.06-.94-.94-2.06-.94 2.06-2.06.94zm-11 1L8.5 8.5l.94-2.06 2.06-.94-2.06-.94L8.5 2.5l-.94 2.06-2.06.94zm10 10l.94 2.06.94-2.06 2.06-.94-2.06-.94-.94-2.06-.94 2.06-2.06.94z\"/><path d=\"M17.41 7.96l-1.37-1.37c-.4-.4-.92-.59-1.43-.59-.52 0-1.04.2-1.43.59L10.3 9.45l-7.72 7.72c-.78.78-.78 2.05 0 2.83L4 21.41c.39.39.9.59 1.41.59.51 0 1.02-.2 1.41-.59l7.78-7.78 2.81-2.81c.8-.78.8-2.07 0-2.86zM5.41 20L4 18.59l7.72-7.72 1.47 1.35L5.41 20z\"/>\n",
              "  </svg>\n",
              "      </button>\n",
              "      \n",
              "  <style>\n",
              "    .colab-df-container {\n",
              "      display:flex;\n",
              "      flex-wrap:wrap;\n",
              "      gap: 12px;\n",
              "    }\n",
              "\n",
              "    .colab-df-convert {\n",
              "      background-color: #E8F0FE;\n",
              "      border: none;\n",
              "      border-radius: 50%;\n",
              "      cursor: pointer;\n",
              "      display: none;\n",
              "      fill: #1967D2;\n",
              "      height: 32px;\n",
              "      padding: 0 0 0 0;\n",
              "      width: 32px;\n",
              "    }\n",
              "\n",
              "    .colab-df-convert:hover {\n",
              "      background-color: #E2EBFA;\n",
              "      box-shadow: 0px 1px 2px rgba(60, 64, 67, 0.3), 0px 1px 3px 1px rgba(60, 64, 67, 0.15);\n",
              "      fill: #174EA6;\n",
              "    }\n",
              "\n",
              "    [theme=dark] .colab-df-convert {\n",
              "      background-color: #3B4455;\n",
              "      fill: #D2E3FC;\n",
              "    }\n",
              "\n",
              "    [theme=dark] .colab-df-convert:hover {\n",
              "      background-color: #434B5C;\n",
              "      box-shadow: 0px 1px 3px 1px rgba(0, 0, 0, 0.15);\n",
              "      filter: drop-shadow(0px 1px 2px rgba(0, 0, 0, 0.3));\n",
              "      fill: #FFFFFF;\n",
              "    }\n",
              "  </style>\n",
              "\n",
              "      <script>\n",
              "        const buttonEl =\n",
              "          document.querySelector('#df-c182db0e-f904-42cd-be5c-372a6762dcea button.colab-df-convert');\n",
              "        buttonEl.style.display =\n",
              "          google.colab.kernel.accessAllowed ? 'block' : 'none';\n",
              "\n",
              "        async function convertToInteractive(key) {\n",
              "          const element = document.querySelector('#df-c182db0e-f904-42cd-be5c-372a6762dcea');\n",
              "          const dataTable =\n",
              "            await google.colab.kernel.invokeFunction('convertToInteractive',\n",
              "                                                     [key], {});\n",
              "          if (!dataTable) return;\n",
              "\n",
              "          const docLinkHtml = 'Like what you see? Visit the ' +\n",
              "            '<a target=\"_blank\" href=https://colab.research.google.com/notebooks/data_table.ipynb>data table notebook</a>'\n",
              "            + ' to learn more about interactive tables.';\n",
              "          element.innerHTML = '';\n",
              "          dataTable['output_type'] = 'display_data';\n",
              "          await google.colab.output.renderOutput(dataTable, element);\n",
              "          const docLink = document.createElement('div');\n",
              "          docLink.innerHTML = docLinkHtml;\n",
              "          element.appendChild(docLink);\n",
              "        }\n",
              "      </script>\n",
              "    </div>\n",
              "  </div>\n",
              "  "
            ],
            "text/plain": [
              "   clima  temperatura  bicicletas_alquiladas\n",
              "0      2     0.363625                    985\n",
              "1      2     0.353739                    801\n",
              "2      1     0.189405                   1349\n",
              "3      1     0.212122                   1562\n",
              "4      1     0.229270                   1600"
            ]
          },
          "metadata": {},
          "execution_count": 3
        }
      ]
    },
    {
      "cell_type": "code",
      "metadata": {
        "colab": {
          "base_uri": "https://localhost:8080/"
        },
        "id": "MoWoAuqfEq7x",
        "outputId": "5d86e516-1bb4-4f9d-946f-ad2317d64e2e"
      },
      "source": [
        "datos.shape"
      ],
      "execution_count": 4,
      "outputs": [
        {
          "output_type": "execute_result",
          "data": {
            "text/plain": [
              "(731, 3)"
            ]
          },
          "metadata": {},
          "execution_count": 4
        }
      ]
    },
    {
      "cell_type": "code",
      "metadata": {
        "colab": {
          "base_uri": "https://localhost:8080/"
        },
        "id": "btQj7PewErBG",
        "outputId": "c2c89440-c3c2-4b9d-c90e-6b89a8167b3f"
      },
      "source": [
        "datos.clima.value_counts()"
      ],
      "execution_count": 5,
      "outputs": [
        {
          "output_type": "execute_result",
          "data": {
            "text/plain": [
              "1    463\n",
              "2    247\n",
              "3     21\n",
              "Name: clima, dtype: int64"
            ]
          },
          "metadata": {},
          "execution_count": 5
        }
      ]
    },
    {
      "cell_type": "markdown",
      "metadata": {
        "id": "Rltye9zdOy0L"
      },
      "source": [
        "## 1.2 Visualizando y Normalizando los datos"
      ]
    },
    {
      "cell_type": "code",
      "metadata": {
        "colab": {
          "base_uri": "https://localhost:8080/",
          "height": 519
        },
        "id": "WZSHiUDIErqR",
        "outputId": "ed60684d-ba1c-4880-ab21-39a0d0e93064"
      },
      "source": [
        "plt.figure(figsize=[12,8])\n",
        "plt.scatter(datos.temperatura, datos.bicicletas_alquiladas)\n",
        "plt.xlabel('Temperatura', fontsize = 14)\n",
        "plt.ylabel('Bicicletas Alquiladas', fontsize = 14)"
      ],
      "execution_count": 6,
      "outputs": [
        {
          "output_type": "execute_result",
          "data": {
            "text/plain": [
              "Text(0, 0.5, 'Bicicletas Alquiladas')"
            ]
          },
          "metadata": {},
          "execution_count": 6
        },
        {
          "output_type": "display_data",
          "data": {
            "image/png": "[encoded data removed]",
            "text/plain": [
              "<Figure size 864x576 with 1 Axes>"
            ]
          },
          "metadata": {
            "needs_background": "light"
          }
        }
      ]
    },
    {
      "cell_type": "code",
      "metadata": {
        "colab": {
          "base_uri": "https://localhost:8080/",
          "height": 522
        },
        "id": "JOo8p7PgSEjc",
        "outputId": "23c485c5-ee25-49fc-ef68-2e9edfa88ab1"
      },
      "source": [
        "plt.figure(figsize=[12,8])\n",
        "plt.scatter(datos.clima, datos.bicicletas_alquiladas)\n",
        "plt.xlabel('Clima', fontsize = 14)\n",
        "indice = [1,2,3]\n",
        "plt.xticks(indice, fontsize = 14)\n",
        "plt.ylabel('Bicicletas Alquiladas', fontsize = 14)"
      ],
      "execution_count": 7,
      "outputs": [
        {
          "output_type": "execute_result",
          "data": {
            "text/plain": [
              "Text(0, 0.5, 'Bicicletas Alquiladas')"
            ]
          },
          "metadata": {},
          "execution_count": 7
        },
        {
          "output_type": "display_data",
          "data": {
            "image/png": "[encoded data removed]",
            "text/plain": [
              "<Figure size 864x576 with 1 Axes>"
            ]
          },
          "metadata": {
            "needs_background": "light"
          }
        }
      ]
    },
    {
      "cell_type": "code",
      "metadata": {
        "colab": {
          "base_uri": "https://localhost:8080/"
        },
        "id": "q4VJrUpgSdcB",
        "outputId": "65f4d513-1aac-4885-b4b8-5e20ca956713"
      },
      "source": [
        "X = datos[['clima','temperatura']].values\n",
        "y = datos['bicicletas_alquiladas'].values\n",
        "print(X[0:5], y[0:5])"
      ],
      "execution_count": 8,
      "outputs": [
        {
          "output_type": "stream",
          "name": "stdout",
          "text": [
            "[[2.       0.363625]\n",
            " [2.       0.353739]\n",
            " [1.       0.189405]\n",
            " [1.       0.212122]\n",
            " [1.       0.22927 ]] [ 985  801 1349 1562 1600]\n"
          ]
        }
      ]
    },
    {
      "cell_type": "code",
      "metadata": {
        "colab": {
          "base_uri": "https://localhost:8080/"
        },
        "id": "iuBdxbeJTci1",
        "outputId": "3b4fbc13-4ab2-4f16-cafa-5833ae77754b"
      },
      "source": [
        "X = X/np.amax(X, axis=0)\n",
        "ymax = np.amax(y)\n",
        "y = y/ymax\n",
        "print(X[0:5], y[0:5])"
      ],
      "execution_count": 9,
      "outputs": [
        {
          "output_type": "stream",
          "name": "stdout",
          "text": [
            "[[0.66666667 0.43242565]\n",
            " [0.66666667 0.42066914]\n",
            " [0.33333333 0.22524188]\n",
            " [0.33333333 0.25225712]\n",
            " [0.33333333 0.27264965]] [0.11303649 0.09192105 0.15480835 0.17925178 0.18361258]\n"
          ]
        }
      ]
    },
    {
      "cell_type": "markdown",
      "source": [
        "## 2.1 Funciones de Activación y Arquitectura de la red"
      ],
      "metadata": {
        "id": "kvQH8AFnkxwT"
      }
    },
    {
      "cell_type": "code",
      "metadata": {
        "id": "mBCg-ZobWp-R"
      },
      "source": [
        "def sigmoid(suma):\n",
        "  return 1/(1+np.exp(-suma))\n",
        "\n",
        "def relu(suma):\n",
        "  return np.maximum(0,suma)"
      ],
      "execution_count": 10,
      "outputs": []
    },
    {
      "cell_type": "code",
      "source": [
        "arquitectura= [{\"dim_in\":2, \"dim_out\":50, \"activacion\": \"relu\"},\n",
        "               {\"dim_in\":50, \"dim_out\":1, \"activacion\": \"sigmoid\"}]"
      ],
      "metadata": {
        "id": "cObntR4AlALG"
      },
      "execution_count": 11,
      "outputs": []
    },
    {
      "cell_type": "code",
      "source": [
        "def inicia_capas(arquitectura, seed=99):\n",
        "  np.random.seed(seed)\n",
        "  numero_de_capas= len(arquitectura)\n",
        "  valores_parametros={}\n",
        "  for indice, capa in enumerate(arquitectura):\n",
        "    indice_capa= indice+1\n",
        "    tamano_capa_in= capa[\"dim_in\"]\n",
        "    tamano_capa_out= capa[\"dim_out\"]\n",
        "    valores_parametros[\"P\"+str(indice_capa)] = np.random.randn(tamano_capa_out, tamano_capa_in)*0.1\n",
        "    valores_parametros[\"b\"+str(indice_capa)] = np.random.randn(tamano_capa_out, 1)*0.1\n",
        "  return valores_parametros"
      ],
      "metadata": {
        "id": "Up38hIHplANw"
      },
      "execution_count": 12,
      "outputs": []
    },
    {
      "cell_type": "markdown",
      "source": [
        "## 2.2 Propagación de Red"
      ],
      "metadata": {
        "id": "U2gegF8sqagj"
      }
    },
    {
      "cell_type": "code",
      "source": [
        "def propaga_una_capa(activacion_anterior, pesos_actual, b_actual, activacion=\"relu\"):\n",
        "  output_actual = np.dot(pesos_actual,activacion_anterior)+b_actual\n",
        "  if activacion is \"relu\":\n",
        "    func_activacion = relu\n",
        "  elif activacion is \"sigmoid\":\n",
        "    func_activacion = sigmoid\n",
        "  else:\n",
        "    raise Exception(\"Funcion no implementada.\")\n",
        "  return func_activacion(output_actual), output_actual"
      ],
      "metadata": {
        "id": "thgYlKd-rG8S"
      },
      "execution_count": 13,
      "outputs": []
    },
    {
      "cell_type": "code",
      "source": [
        "def propaga_total(X, valores_parametros, arquitectura):\n",
        "  memoria = {}\n",
        "  activacion_actual = X\n",
        "\n",
        "  for indice, capa in enumerate(arquitectura):\n",
        "    indice_capa = indice + 1\n",
        "    activacion_anterior = activacion_actual\n",
        "    func_activacion_actual = capa[\"activacion\"]\n",
        "    pesos_actual = valores_parametros[\"P\" + str(indice_capa)]\n",
        "    b_actual = valores_parametros[\"b\"+ str(indice_capa)]\n",
        "    activacion_actual, output_actual = propaga_una_capa(activacion_anterior, \n",
        "                                                        pesos_actual, b_actual, \n",
        "                                                        func_activacion_actual)\n",
        "    memoria[\"A\"+str(indice)] = activacion_anterior\n",
        "    memoria[\"Z\"+str(indice_capa)] = output_actual\n",
        "  return activacion_actual, memoria"
      ],
      "metadata": {
        "id": "s3HHRFKcrG-x"
      },
      "execution_count": 14,
      "outputs": []
    },
    {
      "cell_type": "markdown",
      "source": [
        "## 2.3 Probando la red"
      ],
      "metadata": {
        "id": "exLhQagTyrO-"
      }
    },
    {
      "cell_type": "code",
      "source": [
        "valores_parametros = inicia_capas(arquitectura, seed=99)\n",
        "y_estimado, memoria = propaga_total(np.transpose(X), valores_parametros,\n",
        "                                    arquitectura)"
      ],
      "metadata": {
        "id": "5tVWXZoBqerH"
      },
      "execution_count": 15,
      "outputs": []
    },
    {
      "cell_type": "code",
      "source": [
        "y_estimado[0,0]*ymax"
      ],
      "metadata": {
        "id": "1s2tG5m8yv07",
        "outputId": "bda139cc-549a-4ad6-8686-077b1494a21e",
        "colab": {
          "base_uri": "https://localhost:8080/"
        }
      },
      "execution_count": 16,
      "outputs": [
        {
          "output_type": "execute_result",
          "data": {
            "text/plain": [
              "4579.982967258466"
            ]
          },
          "metadata": {},
          "execution_count": 16
        }
      ]
    },
    {
      "cell_type": "code",
      "source": [
        "y[0]*ymax"
      ],
      "metadata": {
        "id": "HBSS_Assyv3S",
        "outputId": "7d71f8ab-1594-4d9b-ccbc-efbe682e2a23",
        "colab": {
          "base_uri": "https://localhost:8080/"
        }
      },
      "execution_count": 17,
      "outputs": [
        {
          "output_type": "execute_result",
          "data": {
            "text/plain": [
              "985.0000000000001"
            ]
          },
          "metadata": {},
          "execution_count": 17
        }
      ]
    },
    {
      "cell_type": "markdown",
      "source": [
        "## 3.1 Actualización de pesos y función de costo\n"
      ],
      "metadata": {
        "id": "obrMTZBtVuqZ"
      }
    },
    {
      "cell_type": "code",
      "source": [
        "def actualiza(valores_parametros, gradientes, arquitectura, tasa_aprendizaje):\n",
        "\n",
        "    # iteraciones por las capas\n",
        "    for indice_capa, capa in enumerate(arquitectura, 1):\n",
        "        valores_parametros[\"P\" + str(indice_capa)] -= tasa_aprendizaje * gradientes[\"dP\" + str(indice_capa)]        \n",
        "        valores_parametros[\"b\" + str(indice_capa)] -= tasa_aprendizaje * gradientes[\"db\" + str(indice_capa)]\n",
        "\n",
        "    return valores_parametros;"
      ],
      "metadata": {
        "id": "phyjhoQIVyd2"
      },
      "execution_count": 18,
      "outputs": []
    },
    {
      "cell_type": "code",
      "source": [
        "def valor_costo(Y_estimado, Y):\n",
        "    # número_de_muestras\n",
        "    m = Y_estimado.shape[1]\n",
        "    \n",
        "    costo = -1 / m * (np.dot(Y, np.log(Y_estimado).T) + np.dot(1 - Y, np.log(1 - Y_estimado).T))\n",
        "    return np.squeeze(costo)"
      ],
      "metadata": {
        "id": "pMoAfUeLV08U"
      },
      "execution_count": 19,
      "outputs": []
    },
    {
      "cell_type": "markdown",
      "source": [
        "## 4.1 Retropropagación"
      ],
      "metadata": {
        "id": "54tUG99nYRKF"
      }
    },
    {
      "cell_type": "code",
      "source": [
        "def retropropagacion_total(Y_estimado, Y, memoria, valores_parametros, arquitectura):\n",
        "   \n",
        "    gradientes = {}\n",
        "    \n",
        "    # número de muestras\n",
        "    #m = Y.shape[1]\n",
        "    # Asegurar que los 2 vectores tengan la misma dimensión\n",
        "    Y = Y.reshape(Y_estimado.shape)\n",
        "    \n",
        "    # inicia el algoritmo de gradiente descendiente\n",
        "    dActivacion_anterior = - (np.divide(Y, Y_estimado) - np.divide(1 - Y, 1 - Y_estimado));\n",
        "    \n",
        "    for indice_capa_anterior, capa in reversed(list(enumerate(arquitectura))):\n",
        "        \n",
        "        indice_capa_actual = indice_capa_anterior + 1\n",
        "\n",
        "        # Función de activacion para la capa actual\n",
        "        func_activacion_actual = capa[\"activacion\"]\n",
        "        \n",
        "        dActivacion_actual = dActivacion_anterior\n",
        "        \n",
        "        activacion_anterior = memoria[\"A\" + str(indice_capa_anterior)]\n",
        "        output_actual = memoria[\"Z\" + str(indice_capa_actual)]\n",
        "        \n",
        "        pesos_actual = valores_parametros[\"P\" + str(indice_capa_actual)]\n",
        "        b_actual = valores_parametros[\"b\" + str(indice_capa_actual)]\n",
        "        \n",
        "        dActivacion_anterior, dPesos_actual, db_actual = retropropagacion_una_capa(\n",
        "            dActivacion_actual, pesos_actual, b_actual, output_actual, activacion_anterior, func_activacion_actual)\n",
        "        \n",
        "        gradientes[\"dP\" + str(indice_capa_actual)] = dPesos_actual\n",
        "        gradientes[\"db\" + str(indice_capa_actual)] = db_actual\n",
        "    \n",
        "    return gradientes"
      ],
      "metadata": {
        "id": "XoLnTSdIYZ44"
      },
      "execution_count": 20,
      "outputs": []
    },
    {
      "cell_type": "code",
      "source": [
        "def sigmoid_retro(dActivacion, output):\n",
        "    sig = sigmoid(output)\n",
        "    return dActivacion * sig * (1 - sig)\n",
        "\n",
        "def relu_retro(dActivacion, output):\n",
        "    dOutput = np.array(dActivacion, copy = True)\n",
        "    dOutput[output <= 0] = 0;\n",
        "    return dOutput"
      ],
      "metadata": {
        "id": "FP0h4MizY2HJ"
      },
      "execution_count": 21,
      "outputs": []
    },
    {
      "cell_type": "markdown",
      "source": [
        "## 4.2 Retropropagación de una capa"
      ],
      "metadata": {
        "id": "0rDSUzYWZIUB"
      }
    },
    {
      "cell_type": "code",
      "source": [
        "def retropropagacion_una_capa(dActivacion_actual, pesos_actual, b_actual, output_actual, activacion_anterior, activacion=\"relu\"):\n",
        "    # número de muestras\n",
        "    m = activacion_anterior.shape[1]\n",
        "    \n",
        "    # Seleccionar función de activación\n",
        "    if activacion is \"relu\":\n",
        "        func_activacion_retro = relu_retro\n",
        "    elif activacion is \"sigmoid\":\n",
        "        func_activacion_retro = sigmoid_retro\n",
        "    else:\n",
        "        raise Exception('Función no implementada.')\n",
        "    \n",
        "    # derivada de la función de activación\n",
        "    dOutput_actual = func_activacion_retro(dActivacion_actual, output_actual)    \n",
        "    # derivada de la matriz de Pesos\n",
        "    dPesos_actual = np.dot(dOutput_actual, activacion_anterior.T) / m\n",
        "    # derivada del vector de bias \n",
        "    db_actual = np.sum(dOutput_actual, axis=1, keepdims=True) / m\n",
        "    # derivada de la matriz de activación anterior\n",
        "    dActivacion_anterior = np.dot(pesos_actual.T, dOutput_actual)\n",
        "\n",
        "    return dActivacion_anterior, dPesos_actual, db_actual"
      ],
      "metadata": {
        "id": "VowDgiomZGAQ"
      },
      "execution_count": 22,
      "outputs": []
    },
    {
      "cell_type": "markdown",
      "source": [
        "## 5.1 Entrenando la red"
      ],
      "metadata": {
        "id": "MWfDBh02Zxx_"
      }
    },
    {
      "cell_type": "code",
      "source": [
        "def train(X, Y,X_test,Y_test, arquitectura, epocas, tasa_aprendizaje):\n",
        "    # Inicia los parámetros de la red neuronal\n",
        "    valores_parametros = inicia_capas(arquitectura, 2)\n",
        "    # Listas que almacenarán el aprendizaje de la red \n",
        "    historia_costo = []\n",
        "    historia_costo_test = []\n",
        "   \n",
        "    \n",
        "    # Actualiza en cada época\n",
        "    for i in range(epocas):\n",
        "        # Propagación de la red - Forward propagation\n",
        "        Y_estimado, memoria = propaga_total(X, valores_parametros, arquitectura)\n",
        "        \n",
        "        Y_estimado_test, memoria2 = propaga_total(X_test, valores_parametros, \n",
        "                                                  arquitectura)\n",
        "        \n",
        "        # calcula as métricas e salva nas listas de história\n",
        "        costo = valor_costo(Y_estimado, Y)\n",
        "        historia_costo.append(costo)\n",
        "        costo_test = valor_costo(Y_estimado_test, Y_test)\n",
        "        historia_costo_test.append(costo_test)\n",
        "        \n",
        "        \n",
        "        # Retropropagación - Backpropagation\n",
        "        gradientes = retropropagacion_total(Y_estimado, Y, memoria, \n",
        "                                           valores_parametros, arquitectura)\n",
        "        # Actualizar los pesos\n",
        "        valores_parametros = actualiza(valores_parametros, gradientes, \n",
        "                                      arquitectura, tasa_aprendizaje)\n",
        "        \n",
        "        if(i % 50 == 0):\n",
        "            \n",
        "            print(f'Iteración: {i:05} - Costo: {costo:.5f}')\n",
        "            \n",
        "            \n",
        "    return valores_parametros, historia_costo, historia_costo_test"
      ],
      "metadata": {
        "id": "hVgwERDcZzqI"
      },
      "execution_count": 23,
      "outputs": []
    },
    {
      "cell_type": "code",
      "source": [
        "X_train, X_test, y_train, y_test = train_test_split( X, y, test_size=0.43, random_state=42)"
      ],
      "metadata": {
        "id": "PlBF1mLMaBlZ"
      },
      "execution_count": 24,
      "outputs": []
    },
    {
      "cell_type": "code",
      "source": [
        "valores_parametros, historia_costo, historia_costo_test = train(np.transpose(X_train), np.transpose(y_train.reshape((y_train.shape[0], 1))), \n",
        "                                                                  np.transpose(X_test), np.transpose(y_test.reshape((y_test.shape[0], 1))), \n",
        "                                                                  arquitectura, 20000, 0.01)"
      ],
      "metadata": {
        "colab": {
          "base_uri": "https://localhost:8080/"
        },
        "id": "PH-qtRqMaGk8",
        "outputId": "429a6873-c766-445a-a1a3-c9183a81875c"
      },
      "execution_count": 25,
      "outputs": [
        {
          "output_type": "stream",
          "name": "stdout",
          "text": [
            "Iteración: 00000 - Costo: 0.69396\n",
            "Iteración: 00050 - Costo: 0.69246\n",
            "Iteración: 00100 - Costo: 0.69136\n",
            "Iteración: 00150 - Costo: 0.69054\n",
            "Iteración: 00200 - Costo: 0.68991\n",
            "Iteración: 00250 - Costo: 0.68939\n",
            "Iteración: 00300 - Costo: 0.68894\n",
            "Iteración: 00350 - Costo: 0.68852\n",
            "Iteración: 00400 - Costo: 0.68812\n",
            "Iteración: 00450 - Costo: 0.68773\n",
            "Iteración: 00500 - Costo: 0.68735\n",
            "Iteración: 00550 - Costo: 0.68700\n",
            "Iteración: 00600 - Costo: 0.68667\n",
            "Iteración: 00650 - Costo: 0.68635\n",
            "Iteración: 00700 - Costo: 0.68605\n",
            "Iteración: 00750 - Costo: 0.68575\n",
            "Iteración: 00800 - Costo: 0.68545\n",
            "Iteración: 00850 - Costo: 0.68515\n",
            "Iteración: 00900 - Costo: 0.68485\n",
            "Iteración: 00950 - Costo: 0.68455\n",
            "Iteración: 01000 - Costo: 0.68424\n",
            "Iteración: 01050 - Costo: 0.68394\n",
            "Iteración: 01100 - Costo: 0.68363\n",
            "Iteración: 01150 - Costo: 0.68333\n",
            "Iteración: 01200 - Costo: 0.68302\n",
            "Iteración: 01250 - Costo: 0.68271\n",
            "Iteración: 01300 - Costo: 0.68239\n",
            "Iteración: 01350 - Costo: 0.68208\n",
            "Iteración: 01400 - Costo: 0.68176\n",
            "Iteración: 01450 - Costo: 0.68145\n",
            "Iteración: 01500 - Costo: 0.68113\n",
            "Iteración: 01550 - Costo: 0.68080\n",
            "Iteración: 01600 - Costo: 0.68048\n",
            "Iteración: 01650 - Costo: 0.68015\n",
            "Iteración: 01700 - Costo: 0.67982\n",
            "Iteración: 01750 - Costo: 0.67949\n",
            "Iteración: 01800 - Costo: 0.67915\n",
            "Iteración: 01850 - Costo: 0.67882\n",
            "Iteración: 01900 - Costo: 0.67848\n",
            "Iteración: 01950 - Costo: 0.67814\n",
            "Iteración: 02000 - Costo: 0.67779\n",
            "Iteración: 02050 - Costo: 0.67745\n",
            "Iteración: 02100 - Costo: 0.67710\n",
            "Iteración: 02150 - Costo: 0.67675\n",
            "Iteración: 02200 - Costo: 0.67640\n",
            "Iteración: 02250 - Costo: 0.67604\n",
            "Iteración: 02300 - Costo: 0.67568\n",
            "Iteración: 02350 - Costo: 0.67533\n",
            "Iteración: 02400 - Costo: 0.67497\n",
            "Iteración: 02450 - Costo: 0.67460\n",
            "Iteración: 02500 - Costo: 0.67424\n",
            "Iteración: 02550 - Costo: 0.67387\n",
            "Iteración: 02600 - Costo: 0.67351\n",
            "Iteración: 02650 - Costo: 0.67314\n",
            "Iteración: 02700 - Costo: 0.67277\n",
            "Iteración: 02750 - Costo: 0.67239\n",
            "Iteración: 02800 - Costo: 0.67202\n",
            "Iteración: 02850 - Costo: 0.67165\n",
            "Iteración: 02900 - Costo: 0.67127\n",
            "Iteración: 02950 - Costo: 0.67089\n",
            "Iteración: 03000 - Costo: 0.67052\n",
            "Iteración: 03050 - Costo: 0.67014\n",
            "Iteración: 03100 - Costo: 0.66976\n",
            "Iteración: 03150 - Costo: 0.66938\n",
            "Iteración: 03200 - Costo: 0.66900\n",
            "Iteración: 03250 - Costo: 0.66862\n",
            "Iteración: 03300 - Costo: 0.66824\n",
            "Iteración: 03350 - Costo: 0.66786\n",
            "Iteración: 03400 - Costo: 0.66747\n",
            "Iteración: 03450 - Costo: 0.66709\n",
            "Iteración: 03500 - Costo: 0.66671\n",
            "Iteración: 03550 - Costo: 0.66633\n",
            "Iteración: 03600 - Costo: 0.66595\n",
            "Iteración: 03650 - Costo: 0.66558\n",
            "Iteración: 03700 - Costo: 0.66520\n",
            "Iteración: 03750 - Costo: 0.66482\n",
            "Iteración: 03800 - Costo: 0.66445\n",
            "Iteración: 03850 - Costo: 0.66407\n",
            "Iteración: 03900 - Costo: 0.66370\n",
            "Iteración: 03950 - Costo: 0.66333\n",
            "Iteración: 04000 - Costo: 0.66296\n",
            "Iteración: 04050 - Costo: 0.66260\n",
            "Iteración: 04100 - Costo: 0.66223\n",
            "Iteración: 04150 - Costo: 0.66187\n",
            "Iteración: 04200 - Costo: 0.66152\n",
            "Iteración: 04250 - Costo: 0.66116\n",
            "Iteración: 04300 - Costo: 0.66081\n",
            "Iteración: 04350 - Costo: 0.66046\n",
            "Iteración: 04400 - Costo: 0.66011\n",
            "Iteración: 04450 - Costo: 0.65977\n",
            "Iteración: 04500 - Costo: 0.65943\n",
            "Iteración: 04550 - Costo: 0.65909\n",
            "Iteración: 04600 - Costo: 0.65876\n",
            "Iteración: 04650 - Costo: 0.65843\n",
            "Iteración: 04700 - Costo: 0.65810\n",
            "Iteración: 04750 - Costo: 0.65778\n",
            "Iteración: 04800 - Costo: 0.65746\n",
            "Iteración: 04850 - Costo: 0.65715\n",
            "Iteración: 04900 - Costo: 0.65684\n",
            "Iteración: 04950 - Costo: 0.65654\n",
            "Iteración: 05000 - Costo: 0.65624\n",
            "Iteración: 05050 - Costo: 0.65594\n",
            "Iteración: 05100 - Costo: 0.65565\n",
            "Iteración: 05150 - Costo: 0.65536\n",
            "Iteración: 05200 - Costo: 0.65508\n",
            "Iteración: 05250 - Costo: 0.65480\n",
            "Iteración: 05300 - Costo: 0.65452\n",
            "Iteración: 05350 - Costo: 0.65425\n",
            "Iteración: 05400 - Costo: 0.65398\n",
            "Iteración: 05450 - Costo: 0.65372\n",
            "Iteración: 05500 - Costo: 0.65347\n",
            "Iteración: 05550 - Costo: 0.65321\n",
            "Iteración: 05600 - Costo: 0.65297\n",
            "Iteración: 05650 - Costo: 0.65272\n",
            "Iteración: 05700 - Costo: 0.65248\n",
            "Iteración: 05750 - Costo: 0.65225\n",
            "Iteración: 05800 - Costo: 0.65202\n",
            "Iteración: 05850 - Costo: 0.65180\n",
            "Iteración: 05900 - Costo: 0.65157\n",
            "Iteración: 05950 - Costo: 0.65136\n",
            "Iteración: 06000 - Costo: 0.65114\n",
            "Iteración: 06050 - Costo: 0.65094\n",
            "Iteración: 06100 - Costo: 0.65074\n",
            "Iteración: 06150 - Costo: 0.65054\n",
            "Iteración: 06200 - Costo: 0.65034\n",
            "Iteración: 06250 - Costo: 0.65016\n",
            "Iteración: 06300 - Costo: 0.64998\n",
            "Iteración: 06350 - Costo: 0.64980\n",
            "Iteración: 06400 - Costo: 0.64962\n",
            "Iteración: 06450 - Costo: 0.64945\n",
            "Iteración: 06500 - Costo: 0.64929\n",
            "Iteración: 06550 - Costo: 0.64913\n",
            "Iteración: 06600 - Costo: 0.64897\n",
            "Iteración: 06650 - Costo: 0.64881\n",
            "Iteración: 06700 - Costo: 0.64866\n",
            "Iteración: 06750 - Costo: 0.64852\n",
            "Iteración: 06800 - Costo: 0.64837\n",
            "Iteración: 06850 - Costo: 0.64823\n",
            "Iteración: 06900 - Costo: 0.64809\n",
            "Iteración: 06950 - Costo: 0.64795\n",
            "Iteración: 07000 - Costo: 0.64781\n",
            "Iteración: 07050 - Costo: 0.64768\n",
            "Iteración: 07100 - Costo: 0.64754\n",
            "Iteración: 07150 - Costo: 0.64741\n",
            "Iteración: 07200 - Costo: 0.64728\n",
            "Iteración: 07250 - Costo: 0.64715\n",
            "Iteración: 07300 - Costo: 0.64703\n",
            "Iteración: 07350 - Costo: 0.64691\n",
            "Iteración: 07400 - Costo: 0.64679\n",
            "Iteración: 07450 - Costo: 0.64668\n",
            "Iteración: 07500 - Costo: 0.64657\n",
            "Iteración: 07550 - Costo: 0.64646\n",
            "Iteración: 07600 - Costo: 0.64636\n",
            "Iteración: 07650 - Costo: 0.64625\n",
            "Iteración: 07700 - Costo: 0.64616\n",
            "Iteración: 07750 - Costo: 0.64606\n",
            "Iteración: 07800 - Costo: 0.64597\n",
            "Iteración: 07850 - Costo: 0.64588\n",
            "Iteración: 07900 - Costo: 0.64579\n",
            "Iteración: 07950 - Costo: 0.64570\n",
            "Iteración: 08000 - Costo: 0.64562\n",
            "Iteración: 08050 - Costo: 0.64554\n",
            "Iteración: 08100 - Costo: 0.64546\n",
            "Iteración: 08150 - Costo: 0.64539\n",
            "Iteración: 08200 - Costo: 0.64532\n",
            "Iteración: 08250 - Costo: 0.64524\n",
            "Iteración: 08300 - Costo: 0.64517\n",
            "Iteración: 08350 - Costo: 0.64511\n",
            "Iteración: 08400 - Costo: 0.64504\n",
            "Iteración: 08450 - Costo: 0.64497\n",
            "Iteración: 08500 - Costo: 0.64491\n",
            "Iteración: 08550 - Costo: 0.64485\n",
            "Iteración: 08600 - Costo: 0.64479\n",
            "Iteración: 08650 - Costo: 0.64473\n",
            "Iteración: 08700 - Costo: 0.64468\n",
            "Iteración: 08750 - Costo: 0.64462\n",
            "Iteración: 08800 - Costo: 0.64457\n",
            "Iteración: 08850 - Costo: 0.64452\n",
            "Iteración: 08900 - Costo: 0.64447\n",
            "Iteración: 08950 - Costo: 0.64442\n",
            "Iteración: 09000 - Costo: 0.64437\n",
            "Iteración: 09050 - Costo: 0.64433\n",
            "Iteración: 09100 - Costo: 0.64428\n",
            "Iteración: 09150 - Costo: 0.64424\n",
            "Iteración: 09200 - Costo: 0.64419\n",
            "Iteración: 09250 - Costo: 0.64415\n",
            "Iteración: 09300 - Costo: 0.64411\n",
            "Iteración: 09350 - Costo: 0.64407\n",
            "Iteración: 09400 - Costo: 0.64403\n",
            "Iteración: 09450 - Costo: 0.64399\n",
            "Iteración: 09500 - Costo: 0.64396\n",
            "Iteración: 09550 - Costo: 0.64392\n",
            "Iteración: 09600 - Costo: 0.64388\n",
            "Iteración: 09650 - Costo: 0.64385\n",
            "Iteración: 09700 - Costo: 0.64381\n",
            "Iteración: 09750 - Costo: 0.64378\n",
            "Iteración: 09800 - Costo: 0.64375\n",
            "Iteración: 09850 - Costo: 0.64372\n",
            "Iteración: 09900 - Costo: 0.64369\n",
            "Iteración: 09950 - Costo: 0.64366\n",
            "Iteración: 10000 - Costo: 0.64362\n",
            "Iteración: 10050 - Costo: 0.64359\n",
            "Iteración: 10100 - Costo: 0.64357\n",
            "Iteración: 10150 - Costo: 0.64354\n",
            "Iteración: 10200 - Costo: 0.64351\n",
            "Iteración: 10250 - Costo: 0.64348\n",
            "Iteración: 10300 - Costo: 0.64346\n",
            "Iteración: 10350 - Costo: 0.64343\n",
            "Iteración: 10400 - Costo: 0.64341\n",
            "Iteración: 10450 - Costo: 0.64339\n",
            "Iteración: 10500 - Costo: 0.64336\n",
            "Iteración: 10550 - Costo: 0.64334\n",
            "Iteración: 10600 - Costo: 0.64332\n",
            "Iteración: 10650 - Costo: 0.64330\n",
            "Iteración: 10700 - Costo: 0.64328\n",
            "Iteración: 10750 - Costo: 0.64326\n",
            "Iteración: 10800 - Costo: 0.64324\n",
            "Iteración: 10850 - Costo: 0.64322\n",
            "Iteración: 10900 - Costo: 0.64320\n",
            "Iteración: 10950 - Costo: 0.64318\n",
            "Iteración: 11000 - Costo: 0.64316\n",
            "Iteración: 11050 - Costo: 0.64314\n",
            "Iteración: 11100 - Costo: 0.64313\n",
            "Iteración: 11150 - Costo: 0.64311\n",
            "Iteración: 11200 - Costo: 0.64309\n",
            "Iteración: 11250 - Costo: 0.64308\n",
            "Iteración: 11300 - Costo: 0.64306\n",
            "Iteración: 11350 - Costo: 0.64305\n",
            "Iteración: 11400 - Costo: 0.64303\n",
            "Iteración: 11450 - Costo: 0.64302\n",
            "Iteración: 11500 - Costo: 0.64300\n",
            "Iteración: 11550 - Costo: 0.64299\n",
            "Iteración: 11600 - Costo: 0.64297\n",
            "Iteración: 11650 - Costo: 0.64296\n",
            "Iteración: 11700 - Costo: 0.64295\n",
            "Iteración: 11750 - Costo: 0.64293\n",
            "Iteración: 11800 - Costo: 0.64292\n",
            "Iteración: 11850 - Costo: 0.64291\n",
            "Iteración: 11900 - Costo: 0.64290\n",
            "Iteración: 11950 - Costo: 0.64289\n",
            "Iteración: 12000 - Costo: 0.64287\n",
            "Iteración: 12050 - Costo: 0.64286\n",
            "Iteración: 12100 - Costo: 0.64285\n",
            "Iteración: 12150 - Costo: 0.64284\n",
            "Iteración: 12200 - Costo: 0.64283\n",
            "Iteración: 12250 - Costo: 0.64282\n",
            "Iteración: 12300 - Costo: 0.64281\n",
            "Iteración: 12350 - Costo: 0.64280\n",
            "Iteración: 12400 - Costo: 0.64279\n",
            "Iteración: 12450 - Costo: 0.64278\n",
            "Iteración: 12500 - Costo: 0.64277\n",
            "Iteración: 12550 - Costo: 0.64276\n",
            "Iteración: 12600 - Costo: 0.64275\n",
            "Iteración: 12650 - Costo: 0.64274\n",
            "Iteración: 12700 - Costo: 0.64273\n",
            "Iteración: 12750 - Costo: 0.64272\n",
            "Iteración: 12800 - Costo: 0.64271\n",
            "Iteración: 12850 - Costo: 0.64271\n",
            "Iteración: 12900 - Costo: 0.64270\n",
            "Iteración: 12950 - Costo: 0.64269\n",
            "Iteración: 13000 - Costo: 0.64268\n",
            "Iteración: 13050 - Costo: 0.64267\n",
            "Iteración: 13100 - Costo: 0.64266\n",
            "Iteración: 13150 - Costo: 0.64266\n",
            "Iteración: 13200 - Costo: 0.64265\n",
            "Iteración: 13250 - Costo: 0.64264\n",
            "Iteración: 13300 - Costo: 0.64263\n",
            "Iteración: 13350 - Costo: 0.64263\n",
            "Iteración: 13400 - Costo: 0.64262\n",
            "Iteración: 13450 - Costo: 0.64261\n",
            "Iteración: 13500 - Costo: 0.64260\n",
            "Iteración: 13550 - Costo: 0.64260\n",
            "Iteración: 13600 - Costo: 0.64259\n",
            "Iteración: 13650 - Costo: 0.64258\n",
            "Iteración: 13700 - Costo: 0.64257\n",
            "Iteración: 13750 - Costo: 0.64256\n",
            "Iteración: 13800 - Costo: 0.64255\n",
            "Iteración: 13850 - Costo: 0.64254\n",
            "Iteración: 13900 - Costo: 0.64253\n",
            "Iteración: 13950 - Costo: 0.64252\n",
            "Iteración: 14000 - Costo: 0.64251\n",
            "Iteración: 14050 - Costo: 0.64250\n",
            "Iteración: 14100 - Costo: 0.64249\n",
            "Iteración: 14150 - Costo: 0.64248\n",
            "Iteración: 14200 - Costo: 0.64248\n",
            "Iteración: 14250 - Costo: 0.64247\n",
            "Iteración: 14300 - Costo: 0.64246\n",
            "Iteración: 14350 - Costo: 0.64245\n",
            "Iteración: 14400 - Costo: 0.64245\n",
            "Iteración: 14450 - Costo: 0.64244\n",
            "Iteración: 14500 - Costo: 0.64243\n",
            "Iteración: 14550 - Costo: 0.64243\n",
            "Iteración: 14600 - Costo: 0.64242\n",
            "Iteración: 14650 - Costo: 0.64241\n",
            "Iteración: 14700 - Costo: 0.64241\n",
            "Iteración: 14750 - Costo: 0.64240\n",
            "Iteración: 14800 - Costo: 0.64239\n",
            "Iteración: 14850 - Costo: 0.64239\n",
            "Iteración: 14900 - Costo: 0.64238\n",
            "Iteración: 14950 - Costo: 0.64237\n",
            "Iteración: 15000 - Costo: 0.64237\n",
            "Iteración: 15050 - Costo: 0.64236\n",
            "Iteración: 15100 - Costo: 0.64235\n",
            "Iteración: 15150 - Costo: 0.64235\n",
            "Iteración: 15200 - Costo: 0.64234\n",
            "Iteración: 15250 - Costo: 0.64233\n",
            "Iteración: 15300 - Costo: 0.64233\n",
            "Iteración: 15350 - Costo: 0.64232\n",
            "Iteración: 15400 - Costo: 0.64231\n",
            "Iteración: 15450 - Costo: 0.64231\n",
            "Iteración: 15500 - Costo: 0.64230\n",
            "Iteración: 15550 - Costo: 0.64230\n",
            "Iteración: 15600 - Costo: 0.64229\n",
            "Iteración: 15650 - Costo: 0.64228\n",
            "Iteración: 15700 - Costo: 0.64228\n",
            "Iteración: 15750 - Costo: 0.64227\n",
            "Iteración: 15800 - Costo: 0.64227\n",
            "Iteración: 15850 - Costo: 0.64226\n",
            "Iteración: 15900 - Costo: 0.64226\n",
            "Iteración: 15950 - Costo: 0.64225\n",
            "Iteración: 16000 - Costo: 0.64224\n",
            "Iteración: 16050 - Costo: 0.64224\n",
            "Iteración: 16100 - Costo: 0.64223\n",
            "Iteración: 16150 - Costo: 0.64222\n",
            "Iteración: 16200 - Costo: 0.64222\n",
            "Iteración: 16250 - Costo: 0.64221\n",
            "Iteración: 16300 - Costo: 0.64220\n",
            "Iteración: 16350 - Costo: 0.64220\n",
            "Iteración: 16400 - Costo: 0.64219\n",
            "Iteración: 16450 - Costo: 0.64218\n",
            "Iteración: 16500 - Costo: 0.64218\n",
            "Iteración: 16550 - Costo: 0.64217\n",
            "Iteración: 16600 - Costo: 0.64217\n",
            "Iteración: 16650 - Costo: 0.64216\n",
            "Iteración: 16700 - Costo: 0.64215\n",
            "Iteración: 16750 - Costo: 0.64215\n",
            "Iteración: 16800 - Costo: 0.64214\n",
            "Iteración: 16850 - Costo: 0.64213\n",
            "Iteración: 16900 - Costo: 0.64213\n",
            "Iteración: 16950 - Costo: 0.64212\n",
            "Iteración: 17000 - Costo: 0.64211\n",
            "Iteración: 17050 - Costo: 0.64211\n",
            "Iteración: 17100 - Costo: 0.64210\n",
            "Iteración: 17150 - Costo: 0.64210\n",
            "Iteración: 17200 - Costo: 0.64209\n",
            "Iteración: 17250 - Costo: 0.64208\n",
            "Iteración: 17300 - Costo: 0.64208\n",
            "Iteración: 17350 - Costo: 0.64207\n",
            "Iteración: 17400 - Costo: 0.64206\n",
            "Iteración: 17450 - Costo: 0.64206\n",
            "Iteración: 17500 - Costo: 0.64205\n",
            "Iteración: 17550 - Costo: 0.64205\n",
            "Iteración: 17600 - Costo: 0.64204\n",
            "Iteración: 17650 - Costo: 0.64203\n",
            "Iteración: 17700 - Costo: 0.64203\n",
            "Iteración: 17750 - Costo: 0.64202\n",
            "Iteración: 17800 - Costo: 0.64202\n",
            "Iteración: 17850 - Costo: 0.64201\n",
            "Iteración: 17900 - Costo: 0.64200\n",
            "Iteración: 17950 - Costo: 0.64200\n",
            "Iteración: 18000 - Costo: 0.64199\n",
            "Iteración: 18050 - Costo: 0.64199\n",
            "Iteración: 18100 - Costo: 0.64198\n",
            "Iteración: 18150 - Costo: 0.64197\n",
            "Iteración: 18200 - Costo: 0.64197\n",
            "Iteración: 18250 - Costo: 0.64196\n",
            "Iteración: 18300 - Costo: 0.64196\n",
            "Iteración: 18350 - Costo: 0.64195\n",
            "Iteración: 18400 - Costo: 0.64195\n",
            "Iteración: 18450 - Costo: 0.64194\n",
            "Iteración: 18500 - Costo: 0.64193\n",
            "Iteración: 18550 - Costo: 0.64193\n",
            "Iteración: 18600 - Costo: 0.64192\n",
            "Iteración: 18650 - Costo: 0.64192\n",
            "Iteración: 18700 - Costo: 0.64191\n",
            "Iteración: 18750 - Costo: 0.64191\n",
            "Iteración: 18800 - Costo: 0.64190\n",
            "Iteración: 18850 - Costo: 0.64190\n",
            "Iteración: 18900 - Costo: 0.64189\n",
            "Iteración: 18950 - Costo: 0.64189\n",
            "Iteración: 19000 - Costo: 0.64188\n",
            "Iteración: 19050 - Costo: 0.64187\n",
            "Iteración: 19100 - Costo: 0.64187\n",
            "Iteración: 19150 - Costo: 0.64186\n",
            "Iteración: 19200 - Costo: 0.64186\n",
            "Iteración: 19250 - Costo: 0.64185\n",
            "Iteración: 19300 - Costo: 0.64185\n",
            "Iteración: 19350 - Costo: 0.64185\n",
            "Iteración: 19400 - Costo: 0.64184\n",
            "Iteración: 19450 - Costo: 0.64184\n",
            "Iteración: 19500 - Costo: 0.64183\n",
            "Iteración: 19550 - Costo: 0.64183\n",
            "Iteración: 19600 - Costo: 0.64182\n",
            "Iteración: 19650 - Costo: 0.64182\n",
            "Iteración: 19700 - Costo: 0.64181\n",
            "Iteración: 19750 - Costo: 0.64181\n",
            "Iteración: 19800 - Costo: 0.64180\n",
            "Iteración: 19850 - Costo: 0.64180\n",
            "Iteración: 19900 - Costo: 0.64179\n",
            "Iteración: 19950 - Costo: 0.64179\n"
          ]
        }
      ]
    },
    {
      "cell_type": "code",
      "source": [
        "plt.figure(figsize=[14,8])\n",
        "plt.plot(historia_costo)\n",
        "plt.plot(historia_costo_test, 'r')\n",
        "plt.legend(['Entrenamiento','Test'])\n",
        "plt.ylabel('Costo')\n",
        "plt.xlabel('Épocas')\n",
        "plt.show()"
      ],
      "metadata": {
        "colab": {
          "base_uri": "https://localhost:8080/",
          "height": 499
        },
        "id": "vEb_Jl3KaLsy",
        "outputId": "6756896c-acc4-4e0c-b7c1-d02e60d8778b"
      },
      "execution_count": 26,
      "outputs": [
        {
          "output_type": "display_data",
          "data": {
            "image/png": "[encoded data removed]",
            "text/plain": [
              "<Figure size 1008x576 with 1 Axes>"
            ]
          },
          "metadata": {
            "needs_background": "light"
          }
        }
      ]
    },
    {
      "cell_type": "markdown",
      "source": [
        "## 5.2 Realizando Previsiones"
      ],
      "metadata": {
        "id": "PAmvTxv0bFK5"
      }
    },
    {
      "cell_type": "code",
      "source": [
        "# Previsión\n",
        "Y_pred, _ = propaga_total(np.transpose(X_test), valores_parametros, arquitectura)"
      ],
      "metadata": {
        "id": "zGqdLUZGa-b-"
      },
      "execution_count": 27,
      "outputs": []
    },
    {
      "cell_type": "code",
      "source": [
        "plt.figure(figsize=[14,8])\n",
        "plt.plot(np.transpose(X_test)[1],ymax*y_test,'.')\n",
        "plt.plot(np.transpose(X_test)[1],ymax*Y_pred.reshape([-1,1]),'.r')\n",
        "plt.legend(['Reales','Estimados'])\n",
        "plt.ylabel('Bicicletas Alquiladas')\n",
        "plt.xlabel('Temperatura')\n",
        "plt.show()"
      ],
      "metadata": {
        "colab": {
          "base_uri": "https://localhost:8080/",
          "height": 497
        },
        "id": "cJ_teoPdbIcv",
        "outputId": "4b05f641-aa47-46aa-9b00-8ffcf8d09973"
      },
      "execution_count": 28,
      "outputs": [
        {
          "output_type": "display_data",
          "data": {
            "image/png": "[encoded data removed]",
            "text/plain": [
              "<Figure size 1008x576 with 1 Axes>"
            ]
          },
          "metadata": {
            "needs_background": "light"
          }
        }
      ]
    },
    {
      "cell_type": "code",
      "source": [
        "plt.plot(3*np.transpose(X_test)[0],ymax*y_test,'.')\n",
        "plt.plot(3*np.transpose(X_test)[0],ymax*Y_pred.reshape([-1,1]),'.r')\n",
        "plt.legend(['Reales','Estimados'])\n",
        "plt.ylabel('Bicicletas Alquiladas')\n",
        "plt.xlabel('Clima')\n",
        "indice=[1,2,3]\n",
        "plt.xticks(indice)\n",
        "plt.show()"
      ],
      "metadata": {
        "colab": {
          "base_uri": "https://localhost:8080/",
          "height": 279
        },
        "id": "LXWZDMFgbPcs",
        "outputId": "ea8d7188-b621-4cf5-df8b-dcde7fdf6929"
      },
      "execution_count": 29,
      "outputs": [
        {
          "output_type": "display_data",
          "data": {
            "image/png": "[encoded data removed]",
            "text/plain": [
              "<Figure size 432x288 with 1 Axes>"
            ]
          },
          "metadata": {
            "needs_background": "light"
          }
        }
      ]
    }
  ]
}