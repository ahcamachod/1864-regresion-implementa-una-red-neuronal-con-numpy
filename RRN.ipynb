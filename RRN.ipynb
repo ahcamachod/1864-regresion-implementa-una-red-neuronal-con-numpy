{
  "nbformat": 4,
  "nbformat_minor": 0,
  "metadata": {
    "colab": {
      "name": "RRN.ipynb",
      "provenance": [],
      "authorship_tag": "ABX9TyNPqNAbk0RwBg3d9sPNn0+8",
      "include_colab_link": true
    },
    "kernelspec": {
      "name": "python3",
      "display_name": "Python 3"
    },
    "language_info": {
      "name": "python"
    }
  },
  "cells": [
    {
      "cell_type": "markdown",
      "metadata": {
        "id": "view-in-github",
        "colab_type": "text"
      },
      "source": [
        "<a href=\"https://colab.research.google.com/github/ahcamachod/1864-regresion-implementa-una-red-neuronal-con-numpy/blob/main/RRN.ipynb\" target=\"_parent\"><img src=\"https://colab.research.google.com/assets/colab-badge.svg\" alt=\"Open In Colab\"/></a>"
      ]
    },
    {
      "cell_type": "markdown",
      "metadata": {
        "id": "3P4s3PrQENJF"
      },
      "source": [
        "# Regresión con Redes Neuronales "
      ]
    },
    {
      "cell_type": "markdown",
      "metadata": {
        "id": "q411TBK5F8sg"
      },
      "source": [
        "##### Mediante este curso de regresión con redes neuronales utilizando Numpy estaremos creando una proyecto que nos ayude a determinar el número de bicicletas alquiladas con base en el clima y la temperatura.\n",
        "\n",
        "El dataset utilizado como referencia se encuentra en: https://archive.ics.uci.edu/ml/datasets/bike+sharing+dataset"
      ]
    },
    {
      "cell_type": "markdown",
      "metadata": {
        "id": "NxWgR6oCEfES"
      },
      "source": [
        "## 1.1 Conociendo el Dataset"
      ]
    },
    {
      "cell_type": "code",
      "metadata": {
        "id": "BBkFwOv_EDGE"
      },
      "source": [
        "from google.colab import files\n",
        "import matplotlib.pyplot as plt\n",
        "import numpy as np\n",
        "import pandas as pd\n",
        "from sklearn.model_selection import train_test_split"
      ],
      "execution_count": 1,
      "outputs": []
    },
    {
      "cell_type": "code",
      "metadata": {
        "id": "mBCg-ZobWp-R"
      },
      "source": [
        ""
      ],
      "execution_count": 9,
      "outputs": []
    },
    {
      "cell_type": "code",
      "metadata": {
        "id": "FNJMqpFKthQq"
      },
      "source": [
        ""
      ],
      "execution_count": null,
      "outputs": []
    },
    {
      "cell_type": "code",
      "metadata": {
        "id": "liQC5r08thTm"
      },
      "source": [
        ""
      ],
      "execution_count": null,
      "outputs": []
    }
  ]
}